{
  "nbformat": 4,
  "nbformat_minor": 0,
  "metadata": {
    "colab": {
      "name": "ANN.ipynb",
      "provenance": [],
      "collapsed_sections": [],
      "authorship_tag": "ABX9TyNvJPsy3YG8H13hK7nQeaQJ",
      "include_colab_link": true
    },
    "kernelspec": {
      "name": "python3",
      "display_name": "Python 3"
    },
    "language_info": {
      "name": "python"
    }
  },
  "cells": [
    {
      "cell_type": "markdown",
      "metadata": {
        "id": "view-in-github",
        "colab_type": "text"
      },
      "source": [
        "<a href=\"https://colab.research.google.com/github/ShreejaSharma/didactic-potato/blob/main/ANN.ipynb\" target=\"_parent\"><img src=\"https://colab.research.google.com/assets/colab-badge.svg\" alt=\"Open In Colab\"/></a>"
      ]
    },
    {
      "cell_type": "code",
      "metadata": {
        "colab": {
          "base_uri": "https://localhost:8080/"
        },
        "id": "3YYvf5-KA48x",
        "outputId": "42446749-7837-48a1-ddb6-1147264ddde1"
      },
      "source": [
        "#from google.colab import drive\n",
        "#drive.mount('/content/gdrive')"
      ],
      "execution_count": null,
      "outputs": [
        {
          "output_type": "stream",
          "text": [
            "Mounted at /content/gdrive\n"
          ],
          "name": "stdout"
        }
      ]
    },
    {
      "cell_type": "code",
      "metadata": {
        "id": "LNNEvDMCMHRQ"
      },
      "source": [
        "from pandas import read_csv\n"
      ],
      "execution_count": null,
      "outputs": []
    },
    {
      "cell_type": "code",
      "metadata": {
        "id": "C5oXcskGAv5W"
      },
      "source": [
        "data1 = read_csv('ElectricityTheft.csv',sep = ',')"
      ],
      "execution_count": null,
      "outputs": []
    },
    {
      "cell_type": "code",
      "metadata": {
        "id": "AEF0XOWDW5bF"
      },
      "source": [
        "from sklearn.preprocessing import LabelEncoder\n",
        "import pandas as pd"
      ],
      "execution_count": null,
      "outputs": []
    },
    {
      "cell_type": "code",
      "metadata": {
        "id": "QyLbUp1abtEf"
      },
      "source": [
        "data1.fillna(0, inplace = True)\n",
        "le = LabelEncoder()\n",
        "\n",
        "#Converting non-numeric data to numeric\n",
        "data1['client_id'] = pd.Series(le.fit_transform(data1['client_id'].astype(str)))\n",
        "\n",
        "#Converting an object into int variable\n",
        "data1['label'] = data1['label'].astype('uint8')\n",
        "\n",
        "#drop irrelevent columns\n",
        "data1.drop(['creation_date'], axis = 1,inplace=True)"
      ],
      "execution_count": null,
      "outputs": []
    },
    {
      "cell_type": "code",
      "metadata": {
        "id": "sE9KvNz5b8_I",
        "colab": {
          "base_uri": "https://localhost:8080/"
        },
        "outputId": "d2225f0b-7722-47d4-cecf-8dbf74dfd028"
      },
      "source": [
        "sizes = data1['label'].value_counts(sort=1)\n",
        "print(sizes)"
      ],
      "execution_count": null,
      "outputs": [
        {
          "output_type": "stream",
          "text": [
            "0    10000\n",
            "1     7566\n",
            "Name: label, dtype: int64\n"
          ],
          "name": "stdout"
        }
      ]
    },
    {
      "cell_type": "code",
      "metadata": {
        "id": "PaPcgXHDBDjT"
      },
      "source": [
        "#Define dependent variable\n",
        "y = data1['label'].values"
      ],
      "execution_count": null,
      "outputs": []
    },
    {
      "cell_type": "code",
      "metadata": {
        "id": "Tlxzmne7BDo2"
      },
      "source": [
        "#Define independent variables\n",
        "x = data1.drop(labels=['label'],axis=1)"
      ],
      "execution_count": null,
      "outputs": []
    },
    {
      "cell_type": "code",
      "metadata": {
        "id": "oHETcuM0HsmU"
      },
      "source": [
        "from sklearn.model_selection import train_test_split \n",
        "x_train, x_test, y_train, y_test = train_test_split (x,y, test_size=0.25, random_state=20)"
      ],
      "execution_count": null,
      "outputs": []
    },
    {
      "cell_type": "code",
      "metadata": {
        "id": "gULV41ENihzM"
      },
      "source": [
        "from sklearn.preprocessing import StandardScaler\n",
        "scaler = StandardScaler()\n"
      ],
      "execution_count": null,
      "outputs": []
    },
    {
      "cell_type": "code",
      "metadata": {
        "id": "CmHChyuZjElC"
      },
      "source": [
        "x_train_scaled = scaler.fit_transform(x_train)\n",
        "x_test_scaled = scaler.fit_transform(x_test)"
      ],
      "execution_count": null,
      "outputs": []
    },
    {
      "cell_type": "code",
      "metadata": {
        "id": "sONV3SY5E7-L"
      },
      "source": [
        "import keras\n",
        "from keras.models import Sequential\n",
        "from keras.layers import Dense"
      ],
      "execution_count": null,
      "outputs": []
    },
    {
      "cell_type": "code",
      "metadata": {
        "colab": {
          "base_uri": "https://localhost:8080/"
        },
        "id": "NEGLSBJnHIFO",
        "outputId": "0dc87fc7-b355-4d8b-f5ce-b49fc41ebd13"
      },
      "source": [
        "model = Sequential()\n",
        "model.add(Dense(128, input_dim=4,activation = 'relu'))\n",
        "model.add(Dense(64, activation = 'relu'))\n",
        "model.add(Dense(1, activation = 'linear'))\n",
        "model.compile(optimizer = 'adam', loss = 'mean_squared_error', metrics = ['mae'])\n",
        "model.summary()\n",
        "    \n",
        "\n",
        "    \n",
        "#y_pred = classifier.predict(x_test)\n",
        "#y_pred = (y_pred > 0.5)"
      ],
      "execution_count": null,
      "outputs": [
        {
          "output_type": "stream",
          "text": [
            "Model: \"sequential_1\"\n",
            "_________________________________________________________________\n",
            "Layer (type)                 Output Shape              Param #   \n",
            "=================================================================\n",
            "dense_3 (Dense)              (None, 128)               640       \n",
            "_________________________________________________________________\n",
            "dense_4 (Dense)              (None, 64)                8256      \n",
            "_________________________________________________________________\n",
            "dense_5 (Dense)              (None, 1)                 65        \n",
            "=================================================================\n",
            "Total params: 8,961\n",
            "Trainable params: 8,961\n",
            "Non-trainable params: 0\n",
            "_________________________________________________________________\n"
          ],
          "name": "stdout"
        }
      ]
    },
    {
      "cell_type": "code",
      "metadata": {
        "colab": {
          "base_uri": "https://localhost:8080/"
        },
        "id": "kZlhregIlzdW",
        "outputId": "a1212328-36be-4107-cd28-d1b8cc14bb81"
      },
      "source": [
        "history=model.fit(x_train_scaled, y_train, validation_split=0.2, epochs = 200,batch_size=15)"
      ],
      "execution_count": null,
      "outputs": [
        {
          "output_type": "stream",
          "text": [
            "Epoch 1/200\n",
            "703/703 [==============================] - 2s 2ms/step - loss: 0.0869 - mae: 0.1980 - val_loss: 0.0513 - val_mae: 0.1333\n",
            "Epoch 2/200\n",
            "703/703 [==============================] - 1s 2ms/step - loss: 0.0477 - mae: 0.1175 - val_loss: 0.0440 - val_mae: 0.0919\n",
            "Epoch 3/200\n",
            "703/703 [==============================] - 1s 1ms/step - loss: 0.0413 - mae: 0.1007 - val_loss: 0.0402 - val_mae: 0.0813\n",
            "Epoch 4/200\n",
            "703/703 [==============================] - 1s 2ms/step - loss: 0.0418 - mae: 0.0968 - val_loss: 0.0390 - val_mae: 0.0923\n",
            "Epoch 5/200\n",
            "703/703 [==============================] - 1s 1ms/step - loss: 0.0404 - mae: 0.0925 - val_loss: 0.0378 - val_mae: 0.0933\n",
            "Epoch 6/200\n",
            "703/703 [==============================] - 1s 1ms/step - loss: 0.0368 - mae: 0.0862 - val_loss: 0.0375 - val_mae: 0.1007\n",
            "Epoch 7/200\n",
            "703/703 [==============================] - 1s 1ms/step - loss: 0.0352 - mae: 0.0826 - val_loss: 0.0383 - val_mae: 0.1038\n",
            "Epoch 8/200\n",
            "703/703 [==============================] - 1s 1ms/step - loss: 0.0380 - mae: 0.0852 - val_loss: 0.0369 - val_mae: 0.0850\n",
            "Epoch 9/200\n",
            "703/703 [==============================] - 1s 1ms/step - loss: 0.0373 - mae: 0.0823 - val_loss: 0.0359 - val_mae: 0.0822\n",
            "Epoch 10/200\n",
            "703/703 [==============================] - 1s 1ms/step - loss: 0.0349 - mae: 0.0797 - val_loss: 0.0366 - val_mae: 0.0666\n",
            "Epoch 11/200\n",
            "703/703 [==============================] - 1s 1ms/step - loss: 0.0361 - mae: 0.0807 - val_loss: 0.0361 - val_mae: 0.0868\n",
            "Epoch 12/200\n",
            "703/703 [==============================] - 1s 1ms/step - loss: 0.0367 - mae: 0.0812 - val_loss: 0.0364 - val_mae: 0.0922\n",
            "Epoch 13/200\n",
            "703/703 [==============================] - 1s 1ms/step - loss: 0.0362 - mae: 0.0803 - val_loss: 0.0353 - val_mae: 0.0786\n",
            "Epoch 14/200\n",
            "703/703 [==============================] - 1s 2ms/step - loss: 0.0353 - mae: 0.0766 - val_loss: 0.0373 - val_mae: 0.0917\n",
            "Epoch 15/200\n",
            "703/703 [==============================] - 1s 1ms/step - loss: 0.0366 - mae: 0.0815 - val_loss: 0.0360 - val_mae: 0.0764\n",
            "Epoch 16/200\n",
            "703/703 [==============================] - 1s 1ms/step - loss: 0.0367 - mae: 0.0799 - val_loss: 0.0365 - val_mae: 0.0749\n",
            "Epoch 17/200\n",
            "703/703 [==============================] - 1s 1ms/step - loss: 0.0369 - mae: 0.0783 - val_loss: 0.0355 - val_mae: 0.0820\n",
            "Epoch 18/200\n",
            "703/703 [==============================] - 1s 1ms/step - loss: 0.0369 - mae: 0.0813 - val_loss: 0.0353 - val_mae: 0.0733\n",
            "Epoch 19/200\n",
            "703/703 [==============================] - 1s 1ms/step - loss: 0.0378 - mae: 0.0796 - val_loss: 0.0360 - val_mae: 0.0684\n",
            "Epoch 20/200\n",
            "703/703 [==============================] - 1s 1ms/step - loss: 0.0351 - mae: 0.0755 - val_loss: 0.0366 - val_mae: 0.0729\n",
            "Epoch 21/200\n",
            "703/703 [==============================] - 1s 1ms/step - loss: 0.0331 - mae: 0.0722 - val_loss: 0.0348 - val_mae: 0.0696\n",
            "Epoch 22/200\n",
            "703/703 [==============================] - 1s 1ms/step - loss: 0.0339 - mae: 0.0735 - val_loss: 0.0355 - val_mae: 0.0643\n",
            "Epoch 23/200\n",
            "703/703 [==============================] - 1s 1ms/step - loss: 0.0358 - mae: 0.0760 - val_loss: 0.0349 - val_mae: 0.0744\n",
            "Epoch 24/200\n",
            "703/703 [==============================] - 1s 1ms/step - loss: 0.0366 - mae: 0.0776 - val_loss: 0.0348 - val_mae: 0.0716\n",
            "Epoch 25/200\n",
            "703/703 [==============================] - 1s 1ms/step - loss: 0.0343 - mae: 0.0731 - val_loss: 0.0345 - val_mae: 0.0702\n",
            "Epoch 26/200\n",
            "703/703 [==============================] - 1s 2ms/step - loss: 0.0355 - mae: 0.0747 - val_loss: 0.0364 - val_mae: 0.0801\n",
            "Epoch 27/200\n",
            "703/703 [==============================] - 1s 2ms/step - loss: 0.0381 - mae: 0.0800 - val_loss: 0.0348 - val_mae: 0.0687\n",
            "Epoch 28/200\n",
            "703/703 [==============================] - 1s 1ms/step - loss: 0.0345 - mae: 0.0736 - val_loss: 0.0349 - val_mae: 0.0735\n",
            "Epoch 29/200\n",
            "703/703 [==============================] - 1s 2ms/step - loss: 0.0333 - mae: 0.0712 - val_loss: 0.0356 - val_mae: 0.0747\n",
            "Epoch 30/200\n",
            "703/703 [==============================] - 1s 2ms/step - loss: 0.0343 - mae: 0.0736 - val_loss: 0.0357 - val_mae: 0.0829\n",
            "Epoch 31/200\n",
            "703/703 [==============================] - 1s 2ms/step - loss: 0.0329 - mae: 0.0724 - val_loss: 0.0354 - val_mae: 0.0767\n",
            "Epoch 32/200\n",
            "703/703 [==============================] - 1s 1ms/step - loss: 0.0363 - mae: 0.0778 - val_loss: 0.0357 - val_mae: 0.0748\n",
            "Epoch 33/200\n",
            "703/703 [==============================] - 1s 1ms/step - loss: 0.0339 - mae: 0.0735 - val_loss: 0.0362 - val_mae: 0.0826\n",
            "Epoch 34/200\n",
            "703/703 [==============================] - 1s 2ms/step - loss: 0.0373 - mae: 0.0804 - val_loss: 0.0349 - val_mae: 0.0723\n",
            "Epoch 35/200\n",
            "703/703 [==============================] - 1s 2ms/step - loss: 0.0343 - mae: 0.0746 - val_loss: 0.0354 - val_mae: 0.0727\n",
            "Epoch 36/200\n",
            "703/703 [==============================] - 1s 2ms/step - loss: 0.0331 - mae: 0.0732 - val_loss: 0.0366 - val_mae: 0.0658\n",
            "Epoch 37/200\n",
            "703/703 [==============================] - 1s 1ms/step - loss: 0.0335 - mae: 0.0708 - val_loss: 0.0350 - val_mae: 0.0777\n",
            "Epoch 38/200\n",
            "703/703 [==============================] - 1s 1ms/step - loss: 0.0355 - mae: 0.0760 - val_loss: 0.0356 - val_mae: 0.0765\n",
            "Epoch 39/200\n",
            "703/703 [==============================] - 1s 2ms/step - loss: 0.0341 - mae: 0.0724 - val_loss: 0.0347 - val_mae: 0.0724\n",
            "Epoch 40/200\n",
            "703/703 [==============================] - 1s 2ms/step - loss: 0.0341 - mae: 0.0717 - val_loss: 0.0356 - val_mae: 0.0777\n",
            "Epoch 41/200\n",
            "703/703 [==============================] - 1s 1ms/step - loss: 0.0361 - mae: 0.0760 - val_loss: 0.0351 - val_mae: 0.0660\n",
            "Epoch 42/200\n",
            "703/703 [==============================] - 1s 1ms/step - loss: 0.0346 - mae: 0.0726 - val_loss: 0.0354 - val_mae: 0.0810\n",
            "Epoch 43/200\n",
            "703/703 [==============================] - 1s 2ms/step - loss: 0.0314 - mae: 0.0700 - val_loss: 0.0368 - val_mae: 0.0727\n",
            "Epoch 44/200\n",
            "703/703 [==============================] - 1s 2ms/step - loss: 0.0358 - mae: 0.0747 - val_loss: 0.0354 - val_mae: 0.0650\n",
            "Epoch 45/200\n",
            "703/703 [==============================] - 1s 1ms/step - loss: 0.0323 - mae: 0.0681 - val_loss: 0.0348 - val_mae: 0.0720\n",
            "Epoch 46/200\n",
            "703/703 [==============================] - 1s 1ms/step - loss: 0.0353 - mae: 0.0734 - val_loss: 0.0349 - val_mae: 0.0777\n",
            "Epoch 47/200\n",
            "703/703 [==============================] - 1s 1ms/step - loss: 0.0335 - mae: 0.0719 - val_loss: 0.0351 - val_mae: 0.0732\n",
            "Epoch 48/200\n",
            "703/703 [==============================] - 1s 1ms/step - loss: 0.0332 - mae: 0.0712 - val_loss: 0.0352 - val_mae: 0.0724\n",
            "Epoch 49/200\n",
            "703/703 [==============================] - 1s 1ms/step - loss: 0.0356 - mae: 0.0753 - val_loss: 0.0360 - val_mae: 0.0702\n",
            "Epoch 50/200\n",
            "703/703 [==============================] - 1s 2ms/step - loss: 0.0329 - mae: 0.0712 - val_loss: 0.0352 - val_mae: 0.0845\n",
            "Epoch 51/200\n",
            "703/703 [==============================] - 1s 1ms/step - loss: 0.0334 - mae: 0.0729 - val_loss: 0.0351 - val_mae: 0.0765\n",
            "Epoch 52/200\n",
            "703/703 [==============================] - 1s 1ms/step - loss: 0.0335 - mae: 0.0722 - val_loss: 0.0350 - val_mae: 0.0795\n",
            "Epoch 53/200\n",
            "703/703 [==============================] - 1s 2ms/step - loss: 0.0359 - mae: 0.0760 - val_loss: 0.0350 - val_mae: 0.0688\n",
            "Epoch 54/200\n",
            "703/703 [==============================] - 1s 1ms/step - loss: 0.0361 - mae: 0.0753 - val_loss: 0.0350 - val_mae: 0.0744\n",
            "Epoch 55/200\n",
            "703/703 [==============================] - 1s 2ms/step - loss: 0.0344 - mae: 0.0720 - val_loss: 0.0350 - val_mae: 0.0713\n",
            "Epoch 56/200\n",
            "703/703 [==============================] - 1s 2ms/step - loss: 0.0331 - mae: 0.0706 - val_loss: 0.0347 - val_mae: 0.0707\n",
            "Epoch 57/200\n",
            "703/703 [==============================] - 1s 2ms/step - loss: 0.0336 - mae: 0.0714 - val_loss: 0.0351 - val_mae: 0.0777\n",
            "Epoch 58/200\n",
            "703/703 [==============================] - 1s 1ms/step - loss: 0.0338 - mae: 0.0725 - val_loss: 0.0352 - val_mae: 0.0774\n",
            "Epoch 59/200\n",
            "703/703 [==============================] - 1s 1ms/step - loss: 0.0327 - mae: 0.0702 - val_loss: 0.0347 - val_mae: 0.0756\n",
            "Epoch 60/200\n",
            "703/703 [==============================] - 1s 1ms/step - loss: 0.0336 - mae: 0.0723 - val_loss: 0.0346 - val_mae: 0.0768\n",
            "Epoch 61/200\n",
            "703/703 [==============================] - 1s 1ms/step - loss: 0.0353 - mae: 0.0743 - val_loss: 0.0344 - val_mae: 0.0671\n",
            "Epoch 62/200\n",
            "703/703 [==============================] - 1s 1ms/step - loss: 0.0318 - mae: 0.0678 - val_loss: 0.0349 - val_mae: 0.0709\n",
            "Epoch 63/200\n",
            "703/703 [==============================] - 1s 2ms/step - loss: 0.0353 - mae: 0.0729 - val_loss: 0.0350 - val_mae: 0.0702\n",
            "Epoch 64/200\n",
            "703/703 [==============================] - 1s 1ms/step - loss: 0.0360 - mae: 0.0746 - val_loss: 0.0346 - val_mae: 0.0675\n",
            "Epoch 65/200\n",
            "703/703 [==============================] - 1s 2ms/step - loss: 0.0360 - mae: 0.0736 - val_loss: 0.0352 - val_mae: 0.0688\n",
            "Epoch 66/200\n",
            "703/703 [==============================] - 1s 1ms/step - loss: 0.0319 - mae: 0.0675 - val_loss: 0.0345 - val_mae: 0.0664\n",
            "Epoch 67/200\n",
            "703/703 [==============================] - 1s 1ms/step - loss: 0.0318 - mae: 0.0675 - val_loss: 0.0343 - val_mae: 0.0695\n",
            "Epoch 68/200\n",
            "703/703 [==============================] - 1s 2ms/step - loss: 0.0333 - mae: 0.0701 - val_loss: 0.0348 - val_mae: 0.0772\n",
            "Epoch 69/200\n",
            "703/703 [==============================] - 1s 2ms/step - loss: 0.0325 - mae: 0.0696 - val_loss: 0.0345 - val_mae: 0.0753\n",
            "Epoch 70/200\n",
            "703/703 [==============================] - 1s 1ms/step - loss: 0.0321 - mae: 0.0692 - val_loss: 0.0343 - val_mae: 0.0775\n",
            "Epoch 71/200\n",
            "703/703 [==============================] - 1s 1ms/step - loss: 0.0313 - mae: 0.0675 - val_loss: 0.0348 - val_mae: 0.0691\n",
            "Epoch 72/200\n",
            "703/703 [==============================] - 1s 2ms/step - loss: 0.0326 - mae: 0.0694 - val_loss: 0.0347 - val_mae: 0.0720\n",
            "Epoch 73/200\n",
            "703/703 [==============================] - 1s 2ms/step - loss: 0.0313 - mae: 0.0669 - val_loss: 0.0347 - val_mae: 0.0685\n",
            "Epoch 74/200\n",
            "703/703 [==============================] - 1s 1ms/step - loss: 0.0352 - mae: 0.0726 - val_loss: 0.0349 - val_mae: 0.0668\n",
            "Epoch 75/200\n",
            "703/703 [==============================] - 1s 2ms/step - loss: 0.0351 - mae: 0.0717 - val_loss: 0.0342 - val_mae: 0.0648\n",
            "Epoch 76/200\n",
            "703/703 [==============================] - 1s 1ms/step - loss: 0.0344 - mae: 0.0710 - val_loss: 0.0375 - val_mae: 0.0746\n",
            "Epoch 77/200\n",
            "703/703 [==============================] - 1s 1ms/step - loss: 0.0329 - mae: 0.0701 - val_loss: 0.0346 - val_mae: 0.0744\n",
            "Epoch 78/200\n",
            "703/703 [==============================] - 1s 1ms/step - loss: 0.0331 - mae: 0.0695 - val_loss: 0.0360 - val_mae: 0.0877\n",
            "Epoch 79/200\n",
            "703/703 [==============================] - 1s 2ms/step - loss: 0.0349 - mae: 0.0758 - val_loss: 0.0344 - val_mae: 0.0667\n",
            "Epoch 80/200\n",
            "703/703 [==============================] - 1s 1ms/step - loss: 0.0349 - mae: 0.0715 - val_loss: 0.0354 - val_mae: 0.0781\n",
            "Epoch 81/200\n",
            "703/703 [==============================] - 1s 2ms/step - loss: 0.0321 - mae: 0.0688 - val_loss: 0.0349 - val_mae: 0.0732\n",
            "Epoch 82/200\n",
            "703/703 [==============================] - 1s 2ms/step - loss: 0.0339 - mae: 0.0725 - val_loss: 0.0344 - val_mae: 0.0734\n",
            "Epoch 83/200\n",
            "703/703 [==============================] - 1s 2ms/step - loss: 0.0352 - mae: 0.0739 - val_loss: 0.0349 - val_mae: 0.0773\n",
            "Epoch 84/200\n",
            "703/703 [==============================] - 1s 2ms/step - loss: 0.0327 - mae: 0.0703 - val_loss: 0.0362 - val_mae: 0.0796\n",
            "Epoch 85/200\n",
            "703/703 [==============================] - 1s 2ms/step - loss: 0.0367 - mae: 0.0781 - val_loss: 0.0378 - val_mae: 0.0818\n",
            "Epoch 86/200\n",
            "703/703 [==============================] - 1s 2ms/step - loss: 0.0317 - mae: 0.0675 - val_loss: 0.0344 - val_mae: 0.0690\n",
            "Epoch 87/200\n",
            "703/703 [==============================] - 1s 2ms/step - loss: 0.0349 - mae: 0.0721 - val_loss: 0.0346 - val_mae: 0.0710\n",
            "Epoch 88/200\n",
            "703/703 [==============================] - 1s 2ms/step - loss: 0.0360 - mae: 0.0742 - val_loss: 0.0348 - val_mae: 0.0687\n",
            "Epoch 89/200\n",
            "703/703 [==============================] - 1s 2ms/step - loss: 0.0340 - mae: 0.0704 - val_loss: 0.0348 - val_mae: 0.0639\n",
            "Epoch 90/200\n",
            "703/703 [==============================] - 1s 2ms/step - loss: 0.0328 - mae: 0.0676 - val_loss: 0.0361 - val_mae: 0.0809\n",
            "Epoch 91/200\n",
            "703/703 [==============================] - 1s 2ms/step - loss: 0.0326 - mae: 0.0709 - val_loss: 0.0344 - val_mae: 0.0755\n",
            "Epoch 92/200\n",
            "703/703 [==============================] - 1s 2ms/step - loss: 0.0350 - mae: 0.0731 - val_loss: 0.0344 - val_mae: 0.0744\n",
            "Epoch 93/200\n",
            "703/703 [==============================] - 1s 2ms/step - loss: 0.0326 - mae: 0.0684 - val_loss: 0.0342 - val_mae: 0.0721\n",
            "Epoch 94/200\n",
            "703/703 [==============================] - 1s 2ms/step - loss: 0.0357 - mae: 0.0750 - val_loss: 0.0345 - val_mae: 0.0727\n",
            "Epoch 95/200\n",
            "703/703 [==============================] - 1s 2ms/step - loss: 0.0344 - mae: 0.0720 - val_loss: 0.0349 - val_mae: 0.0710\n",
            "Epoch 96/200\n",
            "703/703 [==============================] - 1s 2ms/step - loss: 0.0325 - mae: 0.0689 - val_loss: 0.0347 - val_mae: 0.0765\n",
            "Epoch 97/200\n",
            "703/703 [==============================] - 1s 2ms/step - loss: 0.0355 - mae: 0.0746 - val_loss: 0.0342 - val_mae: 0.0703\n",
            "Epoch 98/200\n",
            "703/703 [==============================] - 1s 2ms/step - loss: 0.0344 - mae: 0.0715 - val_loss: 0.0343 - val_mae: 0.0735\n",
            "Epoch 99/200\n",
            "703/703 [==============================] - 1s 2ms/step - loss: 0.0292 - mae: 0.0629 - val_loss: 0.0354 - val_mae: 0.0769\n",
            "Epoch 100/200\n",
            "703/703 [==============================] - 1s 2ms/step - loss: 0.0342 - mae: 0.0730 - val_loss: 0.0347 - val_mae: 0.0651\n",
            "Epoch 101/200\n",
            "703/703 [==============================] - 1s 2ms/step - loss: 0.0391 - mae: 0.0779 - val_loss: 0.0358 - val_mae: 0.0703\n",
            "Epoch 102/200\n",
            "703/703 [==============================] - 1s 2ms/step - loss: 0.0343 - mae: 0.0705 - val_loss: 0.0345 - val_mae: 0.0668\n",
            "Epoch 103/200\n",
            "703/703 [==============================] - 1s 2ms/step - loss: 0.0367 - mae: 0.0740 - val_loss: 0.0344 - val_mae: 0.0702\n",
            "Epoch 104/200\n",
            "703/703 [==============================] - 1s 2ms/step - loss: 0.0354 - mae: 0.0736 - val_loss: 0.0346 - val_mae: 0.0662\n",
            "Epoch 105/200\n",
            "703/703 [==============================] - 1s 2ms/step - loss: 0.0330 - mae: 0.0682 - val_loss: 0.0343 - val_mae: 0.0712\n",
            "Epoch 106/200\n",
            "703/703 [==============================] - 1s 2ms/step - loss: 0.0336 - mae: 0.0703 - val_loss: 0.0341 - val_mae: 0.0718\n",
            "Epoch 107/200\n",
            "703/703 [==============================] - 1s 2ms/step - loss: 0.0306 - mae: 0.0659 - val_loss: 0.0347 - val_mae: 0.0705\n",
            "Epoch 108/200\n",
            "703/703 [==============================] - 1s 2ms/step - loss: 0.0339 - mae: 0.0716 - val_loss: 0.0349 - val_mae: 0.0746\n",
            "Epoch 109/200\n",
            "703/703 [==============================] - 1s 2ms/step - loss: 0.0339 - mae: 0.0708 - val_loss: 0.0339 - val_mae: 0.0667\n",
            "Epoch 110/200\n",
            "703/703 [==============================] - 1s 2ms/step - loss: 0.0302 - mae: 0.0653 - val_loss: 0.0349 - val_mae: 0.0712\n",
            "Epoch 111/200\n",
            "703/703 [==============================] - 1s 2ms/step - loss: 0.0327 - mae: 0.0679 - val_loss: 0.0348 - val_mae: 0.0796\n",
            "Epoch 112/200\n",
            "703/703 [==============================] - 1s 2ms/step - loss: 0.0341 - mae: 0.0722 - val_loss: 0.0351 - val_mae: 0.0747\n",
            "Epoch 113/200\n",
            "703/703 [==============================] - 1s 2ms/step - loss: 0.0329 - mae: 0.0704 - val_loss: 0.0342 - val_mae: 0.0751\n",
            "Epoch 114/200\n",
            "703/703 [==============================] - 1s 1ms/step - loss: 0.0305 - mae: 0.0669 - val_loss: 0.0350 - val_mae: 0.0793\n",
            "Epoch 115/200\n",
            "703/703 [==============================] - 1s 2ms/step - loss: 0.0327 - mae: 0.0715 - val_loss: 0.0345 - val_mae: 0.0727\n",
            "Epoch 116/200\n",
            "703/703 [==============================] - 1s 2ms/step - loss: 0.0323 - mae: 0.0700 - val_loss: 0.0349 - val_mae: 0.0717\n",
            "Epoch 117/200\n",
            "703/703 [==============================] - 1s 2ms/step - loss: 0.0319 - mae: 0.0660 - val_loss: 0.0343 - val_mae: 0.0744\n",
            "Epoch 118/200\n",
            "703/703 [==============================] - 1s 1ms/step - loss: 0.0320 - mae: 0.0684 - val_loss: 0.0342 - val_mae: 0.0769\n",
            "Epoch 119/200\n",
            "703/703 [==============================] - 1s 2ms/step - loss: 0.0341 - mae: 0.0714 - val_loss: 0.0347 - val_mae: 0.0731\n",
            "Epoch 120/200\n",
            "703/703 [==============================] - 1s 2ms/step - loss: 0.0328 - mae: 0.0692 - val_loss: 0.0355 - val_mae: 0.0705\n",
            "Epoch 121/200\n",
            "703/703 [==============================] - 1s 2ms/step - loss: 0.0338 - mae: 0.0699 - val_loss: 0.0342 - val_mae: 0.0693\n",
            "Epoch 122/200\n",
            "703/703 [==============================] - 1s 2ms/step - loss: 0.0338 - mae: 0.0703 - val_loss: 0.0355 - val_mae: 0.0694\n",
            "Epoch 123/200\n",
            "703/703 [==============================] - 1s 2ms/step - loss: 0.0322 - mae: 0.0669 - val_loss: 0.0344 - val_mae: 0.0771\n",
            "Epoch 124/200\n",
            "703/703 [==============================] - 1s 2ms/step - loss: 0.0332 - mae: 0.0709 - val_loss: 0.0342 - val_mae: 0.0683\n",
            "Epoch 125/200\n",
            "703/703 [==============================] - 1s 2ms/step - loss: 0.0334 - mae: 0.0691 - val_loss: 0.0349 - val_mae: 0.0612\n",
            "Epoch 126/200\n",
            "703/703 [==============================] - 1s 2ms/step - loss: 0.0330 - mae: 0.0666 - val_loss: 0.0345 - val_mae: 0.0729\n",
            "Epoch 127/200\n",
            "703/703 [==============================] - 1s 2ms/step - loss: 0.0336 - mae: 0.0706 - val_loss: 0.0343 - val_mae: 0.0692\n",
            "Epoch 128/200\n",
            "703/703 [==============================] - 1s 2ms/step - loss: 0.0335 - mae: 0.0697 - val_loss: 0.0343 - val_mae: 0.0698\n",
            "Epoch 129/200\n",
            "703/703 [==============================] - 1s 2ms/step - loss: 0.0326 - mae: 0.0694 - val_loss: 0.0355 - val_mae: 0.0685\n",
            "Epoch 130/200\n",
            "703/703 [==============================] - 1s 2ms/step - loss: 0.0321 - mae: 0.0660 - val_loss: 0.0348 - val_mae: 0.0760\n",
            "Epoch 131/200\n",
            "703/703 [==============================] - 1s 2ms/step - loss: 0.0344 - mae: 0.0734 - val_loss: 0.0343 - val_mae: 0.0720\n",
            "Epoch 132/200\n",
            "703/703 [==============================] - 1s 2ms/step - loss: 0.0322 - mae: 0.0678 - val_loss: 0.0348 - val_mae: 0.0705\n",
            "Epoch 133/200\n",
            "703/703 [==============================] - 1s 2ms/step - loss: 0.0329 - mae: 0.0688 - val_loss: 0.0342 - val_mae: 0.0676\n",
            "Epoch 134/200\n",
            "703/703 [==============================] - 1s 2ms/step - loss: 0.0323 - mae: 0.0671 - val_loss: 0.0346 - val_mae: 0.0681\n",
            "Epoch 135/200\n",
            "703/703 [==============================] - 1s 2ms/step - loss: 0.0325 - mae: 0.0686 - val_loss: 0.0360 - val_mae: 0.0802\n",
            "Epoch 136/200\n",
            "703/703 [==============================] - 1s 2ms/step - loss: 0.0360 - mae: 0.0747 - val_loss: 0.0346 - val_mae: 0.0726\n",
            "Epoch 137/200\n",
            "703/703 [==============================] - 1s 2ms/step - loss: 0.0330 - mae: 0.0701 - val_loss: 0.0345 - val_mae: 0.0662\n",
            "Epoch 138/200\n",
            "703/703 [==============================] - 1s 2ms/step - loss: 0.0334 - mae: 0.0696 - val_loss: 0.0345 - val_mae: 0.0688\n",
            "Epoch 139/200\n",
            "703/703 [==============================] - 1s 2ms/step - loss: 0.0321 - mae: 0.0676 - val_loss: 0.0341 - val_mae: 0.0663\n",
            "Epoch 140/200\n",
            "703/703 [==============================] - 1s 1ms/step - loss: 0.0317 - mae: 0.0666 - val_loss: 0.0344 - val_mae: 0.0665\n",
            "Epoch 141/200\n",
            "703/703 [==============================] - 1s 1ms/step - loss: 0.0320 - mae: 0.0666 - val_loss: 0.0345 - val_mae: 0.0671\n",
            "Epoch 142/200\n",
            "703/703 [==============================] - 1s 2ms/step - loss: 0.0310 - mae: 0.0647 - val_loss: 0.0348 - val_mae: 0.0766\n",
            "Epoch 143/200\n",
            "703/703 [==============================] - 1s 2ms/step - loss: 0.0324 - mae: 0.0692 - val_loss: 0.0340 - val_mae: 0.0701\n",
            "Epoch 144/200\n",
            "703/703 [==============================] - 1s 2ms/step - loss: 0.0325 - mae: 0.0690 - val_loss: 0.0342 - val_mae: 0.0747\n",
            "Epoch 145/200\n",
            "703/703 [==============================] - 1s 1ms/step - loss: 0.0346 - mae: 0.0735 - val_loss: 0.0348 - val_mae: 0.0684\n",
            "Epoch 146/200\n",
            "703/703 [==============================] - 1s 2ms/step - loss: 0.0316 - mae: 0.0665 - val_loss: 0.0343 - val_mae: 0.0667\n",
            "Epoch 147/200\n",
            "703/703 [==============================] - 1s 2ms/step - loss: 0.0324 - mae: 0.0666 - val_loss: 0.0354 - val_mae: 0.0875\n",
            "Epoch 148/200\n",
            "703/703 [==============================] - 1s 2ms/step - loss: 0.0310 - mae: 0.0670 - val_loss: 0.0342 - val_mae: 0.0703\n",
            "Epoch 149/200\n",
            "703/703 [==============================] - 1s 1ms/step - loss: 0.0320 - mae: 0.0679 - val_loss: 0.0342 - val_mae: 0.0708\n",
            "Epoch 150/200\n",
            "703/703 [==============================] - 1s 2ms/step - loss: 0.0335 - mae: 0.0713 - val_loss: 0.0343 - val_mae: 0.0709\n",
            "Epoch 151/200\n",
            "703/703 [==============================] - 1s 1ms/step - loss: 0.0347 - mae: 0.0723 - val_loss: 0.0344 - val_mae: 0.0646\n",
            "Epoch 152/200\n",
            "703/703 [==============================] - 1s 1ms/step - loss: 0.0326 - mae: 0.0676 - val_loss: 0.0348 - val_mae: 0.0697\n",
            "Epoch 153/200\n",
            "703/703 [==============================] - 1s 2ms/step - loss: 0.0349 - mae: 0.0727 - val_loss: 0.0344 - val_mae: 0.0753\n",
            "Epoch 154/200\n",
            "703/703 [==============================] - 1s 1ms/step - loss: 0.0338 - mae: 0.0720 - val_loss: 0.0340 - val_mae: 0.0675\n",
            "Epoch 155/200\n",
            "703/703 [==============================] - 1s 2ms/step - loss: 0.0333 - mae: 0.0691 - val_loss: 0.0349 - val_mae: 0.0701\n",
            "Epoch 156/200\n",
            "703/703 [==============================] - 1s 2ms/step - loss: 0.0324 - mae: 0.0683 - val_loss: 0.0346 - val_mae: 0.0680\n",
            "Epoch 157/200\n",
            "703/703 [==============================] - 1s 2ms/step - loss: 0.0357 - mae: 0.0732 - val_loss: 0.0345 - val_mae: 0.0690\n",
            "Epoch 158/200\n",
            "703/703 [==============================] - 1s 1ms/step - loss: 0.0314 - mae: 0.0658 - val_loss: 0.0343 - val_mae: 0.0764\n",
            "Epoch 159/200\n",
            "703/703 [==============================] - 1s 2ms/step - loss: 0.0337 - mae: 0.0723 - val_loss: 0.0355 - val_mae: 0.0746\n",
            "Epoch 160/200\n",
            "703/703 [==============================] - 1s 1ms/step - loss: 0.0316 - mae: 0.0664 - val_loss: 0.0345 - val_mae: 0.0727\n",
            "Epoch 161/200\n",
            "703/703 [==============================] - 1s 1ms/step - loss: 0.0347 - mae: 0.0718 - val_loss: 0.0351 - val_mae: 0.0679\n",
            "Epoch 162/200\n",
            "703/703 [==============================] - 1s 2ms/step - loss: 0.0346 - mae: 0.0706 - val_loss: 0.0348 - val_mae: 0.0651\n",
            "Epoch 163/200\n",
            "703/703 [==============================] - 1s 2ms/step - loss: 0.0339 - mae: 0.0700 - val_loss: 0.0342 - val_mae: 0.0742\n",
            "Epoch 164/200\n",
            "703/703 [==============================] - 1s 1ms/step - loss: 0.0349 - mae: 0.0730 - val_loss: 0.0337 - val_mae: 0.0622\n",
            "Epoch 165/200\n",
            "703/703 [==============================] - 1s 2ms/step - loss: 0.0309 - mae: 0.0640 - val_loss: 0.0341 - val_mae: 0.0734\n",
            "Epoch 166/200\n",
            "703/703 [==============================] - 1s 1ms/step - loss: 0.0318 - mae: 0.0673 - val_loss: 0.0348 - val_mae: 0.0733\n",
            "Epoch 167/200\n",
            "703/703 [==============================] - 1s 2ms/step - loss: 0.0342 - mae: 0.0726 - val_loss: 0.0341 - val_mae: 0.0675\n",
            "Epoch 168/200\n",
            "703/703 [==============================] - 1s 1ms/step - loss: 0.0331 - mae: 0.0679 - val_loss: 0.0344 - val_mae: 0.0731\n",
            "Epoch 169/200\n",
            "703/703 [==============================] - 1s 1ms/step - loss: 0.0328 - mae: 0.0694 - val_loss: 0.0343 - val_mae: 0.0637\n",
            "Epoch 170/200\n",
            "703/703 [==============================] - 1s 2ms/step - loss: 0.0326 - mae: 0.0675 - val_loss: 0.0353 - val_mae: 0.0699\n",
            "Epoch 171/200\n",
            "703/703 [==============================] - 1s 2ms/step - loss: 0.0332 - mae: 0.0692 - val_loss: 0.0343 - val_mae: 0.0652\n",
            "Epoch 172/200\n",
            "703/703 [==============================] - 1s 1ms/step - loss: 0.0320 - mae: 0.0672 - val_loss: 0.0349 - val_mae: 0.0737\n",
            "Epoch 173/200\n",
            "703/703 [==============================] - 1s 2ms/step - loss: 0.0347 - mae: 0.0710 - val_loss: 0.0344 - val_mae: 0.0707\n",
            "Epoch 174/200\n",
            "703/703 [==============================] - 1s 1ms/step - loss: 0.0362 - mae: 0.0729 - val_loss: 0.0341 - val_mae: 0.0679\n",
            "Epoch 175/200\n",
            "703/703 [==============================] - 1s 2ms/step - loss: 0.0343 - mae: 0.0697 - val_loss: 0.0341 - val_mae: 0.0698\n",
            "Epoch 176/200\n",
            "703/703 [==============================] - 1s 2ms/step - loss: 0.0368 - mae: 0.0754 - val_loss: 0.0346 - val_mae: 0.0643\n",
            "Epoch 177/200\n",
            "703/703 [==============================] - 1s 1ms/step - loss: 0.0353 - mae: 0.0718 - val_loss: 0.0345 - val_mae: 0.0790\n",
            "Epoch 178/200\n",
            "703/703 [==============================] - 1s 2ms/step - loss: 0.0314 - mae: 0.0664 - val_loss: 0.0343 - val_mae: 0.0693\n",
            "Epoch 179/200\n",
            "703/703 [==============================] - 1s 2ms/step - loss: 0.0339 - mae: 0.0703 - val_loss: 0.0342 - val_mae: 0.0686\n",
            "Epoch 180/200\n",
            "703/703 [==============================] - 1s 1ms/step - loss: 0.0328 - mae: 0.0675 - val_loss: 0.0346 - val_mae: 0.0762\n",
            "Epoch 181/200\n",
            "703/703 [==============================] - 1s 2ms/step - loss: 0.0354 - mae: 0.0739 - val_loss: 0.0350 - val_mae: 0.0735\n",
            "Epoch 182/200\n",
            "703/703 [==============================] - 1s 1ms/step - loss: 0.0331 - mae: 0.0693 - val_loss: 0.0345 - val_mae: 0.0696\n",
            "Epoch 183/200\n",
            "703/703 [==============================] - 1s 1ms/step - loss: 0.0320 - mae: 0.0668 - val_loss: 0.0344 - val_mae: 0.0708\n",
            "Epoch 184/200\n",
            "703/703 [==============================] - 1s 2ms/step - loss: 0.0329 - mae: 0.0693 - val_loss: 0.0344 - val_mae: 0.0679\n",
            "Epoch 185/200\n",
            "703/703 [==============================] - 1s 2ms/step - loss: 0.0315 - mae: 0.0656 - val_loss: 0.0347 - val_mae: 0.0728\n",
            "Epoch 186/200\n",
            "703/703 [==============================] - 1s 2ms/step - loss: 0.0337 - mae: 0.0704 - val_loss: 0.0342 - val_mae: 0.0723\n",
            "Epoch 187/200\n",
            "703/703 [==============================] - 1s 2ms/step - loss: 0.0316 - mae: 0.0668 - val_loss: 0.0340 - val_mae: 0.0712\n",
            "Epoch 188/200\n",
            "703/703 [==============================] - 1s 2ms/step - loss: 0.0347 - mae: 0.0729 - val_loss: 0.0348 - val_mae: 0.0635\n",
            "Epoch 189/200\n",
            "703/703 [==============================] - 1s 1ms/step - loss: 0.0324 - mae: 0.0668 - val_loss: 0.0346 - val_mae: 0.0685\n",
            "Epoch 190/200\n",
            "703/703 [==============================] - 1s 1ms/step - loss: 0.0346 - mae: 0.0726 - val_loss: 0.0344 - val_mae: 0.0636\n",
            "Epoch 191/200\n",
            "703/703 [==============================] - 1s 2ms/step - loss: 0.0327 - mae: 0.0673 - val_loss: 0.0344 - val_mae: 0.0684\n",
            "Epoch 192/200\n",
            "703/703 [==============================] - 1s 2ms/step - loss: 0.0333 - mae: 0.0689 - val_loss: 0.0346 - val_mae: 0.0752\n",
            "Epoch 193/200\n",
            "703/703 [==============================] - 1s 1ms/step - loss: 0.0349 - mae: 0.0722 - val_loss: 0.0343 - val_mae: 0.0689\n",
            "Epoch 194/200\n",
            "703/703 [==============================] - 1s 2ms/step - loss: 0.0352 - mae: 0.0734 - val_loss: 0.0348 - val_mae: 0.0663\n",
            "Epoch 195/200\n",
            "703/703 [==============================] - 1s 2ms/step - loss: 0.0346 - mae: 0.0702 - val_loss: 0.0343 - val_mae: 0.0655\n",
            "Epoch 196/200\n",
            "703/703 [==============================] - 1s 2ms/step - loss: 0.0316 - mae: 0.0664 - val_loss: 0.0345 - val_mae: 0.0718\n",
            "Epoch 197/200\n",
            "703/703 [==============================] - 1s 2ms/step - loss: 0.0303 - mae: 0.0654 - val_loss: 0.0340 - val_mae: 0.0701\n",
            "Epoch 198/200\n",
            "703/703 [==============================] - 1s 2ms/step - loss: 0.0331 - mae: 0.0702 - val_loss: 0.0349 - val_mae: 0.0738\n",
            "Epoch 199/200\n",
            "703/703 [==============================] - 1s 1ms/step - loss: 0.0331 - mae: 0.0688 - val_loss: 0.0341 - val_mae: 0.0689\n",
            "Epoch 200/200\n",
            "703/703 [==============================] - 1s 2ms/step - loss: 0.0319 - mae: 0.0669 - val_loss: 0.0342 - val_mae: 0.0723\n"
          ],
          "name": "stdout"
        }
      ]
    },
    {
      "cell_type": "code",
      "metadata": {
        "id": "MVWNHl2YdFNw"
      },
      "source": [
        "from matplotlib import pyplot as plt"
      ],
      "execution_count": null,
      "outputs": []
    },
    {
      "cell_type": "code",
      "metadata": {
        "colab": {
          "base_uri": "https://localhost:8080/",
          "height": 295
        },
        "id": "6C2XfIjud13p",
        "outputId": "d675a393-c32a-4cd9-c686-b2e648a5d613"
      },
      "source": [
        "loss = history.history['loss']\n",
        "val_loss = history.history['val_loss']\n",
        "epochs = range(1,len(loss)+1)\n",
        "plt.plot(epochs, loss, 'y', label='Training loss')\n",
        "plt.plot(epochs,val_loss,'r',label='Validation loss')\n",
        "plt.title('Training and validation loss')\n",
        "plt.xlabel('Epochs')\n",
        "plt.ylabel('Loss')\n",
        "plt.legend()\n",
        "plt.show()"
      ],
      "execution_count": null,
      "outputs": [
        {
          "output_type": "display_data",
          "data": {
            "image/png": "[encoded data removed]",
            "text/plain": [
              "<Figure size 432x288 with 1 Axes>"
            ]
          },
          "metadata": {
            "tags": [],
            "needs_background": "light"
          }
        }
      ]
    },
    {
      "cell_type": "markdown",
      "metadata": {
        "id": "iXtmmwxl2jj-"
      },
      "source": [
        "A plot of learning curves shows a good fit if:\n",
        "\n",
        "The plot of training loss decreases to a point of stability.\n",
        "The plot of validation loss decreases to a point of stability and has a small gap with the training loss."
      ]
    },
    {
      "cell_type": "code",
      "metadata": {
        "colab": {
          "base_uri": "https://localhost:8080/",
          "height": 295
        },
        "id": "rSDyFaiKd1Sc",
        "outputId": "45f961b6-af1d-4bb9-c699-d5cc1daa8936"
      },
      "source": [
        "acc = history.history['mae']\n",
        "val_acc = history.history['val_mae']\n",
        "plt.plot(epochs,acc,'y',label='Training MAE')\n",
        "plt.plot(epochs,val_acc,'r',label='Validation MAE')\n",
        "plt.title('Training and validation MAE')\n",
        "plt.xlabel('Epochs')\n",
        "plt.ylabel('Accuracy')\n",
        "plt.legend()\n",
        "plt.show()"
      ],
      "execution_count": null,
      "outputs": [
        {
          "output_type": "display_data",
          "data": {
            "image/png": "[encoded data removed]",
            "text/plain": [
              "<Figure size 432x288 with 1 Axes>"
            ]
          },
          "metadata": {
            "tags": [],
            "needs_background": "light"
          }
        }
      ]
    },
    {
      "cell_type": "code",
      "metadata": {
        "colab": {
          "base_uri": "https://localhost:8080/"
        },
        "id": "qI1K9lnOd04l",
        "outputId": "d196e55e-10e0-491e-8f5a-c437518ea7c0"
      },
      "source": [
        "\n",
        "predictions = model.predict(x_test_scaled[:5])\n",
        "print(\"Predicted values are: \",predictions)\n",
        "print(\"Real values are : \",y_test[:5])\n"
      ],
      "execution_count": null,
      "outputs": [
        {
          "output_type": "stream",
          "text": [
            "Predicted values are:  [[1.0209916 ]\n",
            " [0.06621597]\n",
            " [1.0209916 ]\n",
            " [1.0209916 ]\n",
            " [0.05128152]]\n",
            "Real values are :  [1 0 1 1 0]\n"
          ],
          "name": "stdout"
        }
      ]
    },
    {
      "cell_type": "code",
      "metadata": {
        "colab": {
          "base_uri": "https://localhost:8080/"
        },
        "id": "y0skZLCDkWMv",
        "outputId": "49e7f68e-321e-48de-d1b7-6e41e8e81f55"
      },
      "source": [
        "results = model.evaluate(x_test_scaled,y_test)\n",
        "\n",
        "print('Mean squared error from neural net : ',results[0])\n",
        "print('Mean absolute error from neural net : ',results[1])"
      ],
      "execution_count": null,
      "outputs": [
        {
          "output_type": "stream",
          "text": [
            "138/138 [==============================] - 0s 984us/step - loss: 0.0356 - mae: 0.0738\n",
            "Mean squared error from neural net :  0.0355878546833992\n",
            "Mean absolute error from neural net :  0.07375849783420563\n"
          ],
          "name": "stdout"
        }
      ]
    },
    {
      "cell_type": "code",
      "metadata": {
        "id": "OtDceuiP97-X"
      },
      "source": [
        "\n",
        "pred = model.predict(x_test_scaled)\n"
      ],
      "execution_count": null,
      "outputs": []
    },
    {
      "cell_type": "code",
      "metadata": {
        "colab": {
          "base_uri": "https://localhost:8080/"
        },
        "id": "Y7BWChR9CpLH",
        "outputId": "926ca098-efd9-44e8-974c-4b6b09049ad4"
      },
      "source": [
        "print(pred[:5])"
      ],
      "execution_count": null,
      "outputs": [
        {
          "output_type": "stream",
          "text": [
            "[[1.0209916 ]\n",
            " [0.06621597]\n",
            " [1.0209916 ]\n",
            " [1.0209916 ]\n",
            " [0.05128152]]\n"
          ],
          "name": "stdout"
        }
      ]
    },
    {
      "cell_type": "code",
      "metadata": {
        "id": "jJDJVZVvD0Qi"
      },
      "source": [
        "pred = (pred > 0.5)"
      ],
      "execution_count": null,
      "outputs": []
    },
    {
      "cell_type": "code",
      "metadata": {
        "colab": {
          "base_uri": "https://localhost:8080/"
        },
        "id": "LEkOqv7mdqmd",
        "outputId": "5f000d06-dfe2-43d5-b919-c7e6e9bdb358"
      },
      "source": [
        "from sklearn.metrics import accuracy_score, f1_score, precision_score, recall_score, plot_roc_curve\n",
        "acc = accuracy_score(y_test, pred)\n",
        "prec = precision_score(y_test, pred)\n",
        "rec = recall_score(y_test, pred)\n",
        "f1 = f1_score(y_test, pred)\n",
        "print('accuracy:%0.4f'%acc,'\\tprecision:%0.4f'%prec,'\\trecall:%0.4f'%rec,'\\tF1-score:%0.4f'%f1)"
      ],
      "execution_count": null,
      "outputs": [
        {
          "output_type": "stream",
          "text": [
            "accuracy:0.9615 \tprecision:0.9801 \trecall:0.9279 \tF1-score:0.9533\n"
          ],
          "name": "stdout"
        }
      ]
    },
    {
      "cell_type": "code",
      "metadata": {
        "id": "7pQ5UYueOBuO"
      },
      "source": [
        "\n",
        "y_test = pd.DataFrame(y_test) "
      ],
      "execution_count": null,
      "outputs": []
    },
    {
      "cell_type": "code",
      "metadata": {
        "id": "9ln8som-cDfS"
      },
      "source": [
        "from sklearn.metrics import confusion_matrix\n",
        "cnf_matrix = confusion_matrix(y_test, pred.round())"
      ],
      "execution_count": null,
      "outputs": []
    },
    {
      "cell_type": "code",
      "metadata": {
        "id": "8m6956e6cI9c",
        "colab": {
          "base_uri": "https://localhost:8080/"
        },
        "outputId": "8e6f4963-2682-44da-bdd4-3a2f8321cfdb"
      },
      "source": [
        "print(cnf_matrix)"
      ],
      "execution_count": null,
      "outputs": [
        {
          "output_type": "stream",
          "text": [
            "[[2498   35]\n",
            " [ 134 1725]]\n"
          ],
          "name": "stdout"
        }
      ]
    },
    {
      "cell_type": "code",
      "metadata": {
        "id": "HIefwOLIF_Vp"
      },
      "source": [
        "from sklearn.metrics import plot_confusion_matrix"
      ],
      "execution_count": null,
      "outputs": []
    },
    {
      "cell_type": "code",
      "metadata": {
        "colab": {
          "base_uri": "https://localhost:8080/",
          "height": 282
        },
        "id": "bTwXws6AG6zT",
        "outputId": "d8c2c506-0497-4777-c2e6-395ad34cc249"
      },
      "source": [
        "import numpy as np\n",
        "import seaborn as sns\n",
        "cf_matrix = confusion_matrix(y_test, pred)\n",
        "labels = ['True Neg','False Pos','False Neg','True Pos']\n",
        "labels = np.asarray(labels).reshape(2,2)\n",
        "\n",
        "\n",
        "\n",
        "sns.heatmap(cf_matrix, annot=labels, fmt='', cmap='Blues')"
      ],
      "execution_count": null,
      "outputs": [
        {
          "output_type": "execute_result",
          "data": {
            "text/plain": [
              "<matplotlib.axes._subplots.AxesSubplot at 0x7f0201f5dc90>"
            ]
          },
          "metadata": {
            "tags": []
          },
          "execution_count": 79
        },
        {
          "output_type": "display_data",
          "data": {
            "image/png": "[encoded data removed]",
            "text/plain": [
              "<Figure size 432x288 with 2 Axes>"
            ]
          },
          "metadata": {
            "tags": [],
            "needs_background": "light"
          }
        }
      ]
    },
    {
      "cell_type": "code",
      "metadata": {
        "id": "otgqqnV4OYXg"
      },
      "source": [
        ""
      ],
      "execution_count": null,
      "outputs": []
    }
  ]
}